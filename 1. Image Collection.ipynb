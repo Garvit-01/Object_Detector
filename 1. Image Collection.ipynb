{
 "cells": [
  {
   "cell_type": "markdown",
   "metadata": {},
   "source": [
    "# 1. Import Dependencies"
   ]
  },
  {
   "cell_type": "code",
   "execution_count": 1,
   "metadata": {},
   "outputs": [
    {
     "name": "stdout",
     "output_type": "stream",
     "text": [
      "Requirement already satisfied: opencv-python in c:\\users\\garvi\\anaconda3\\envs\\tfod\\lib\\site-packages (4.5.3.56)\n",
      "Requirement already satisfied: numpy>=1.17.3 in c:\\users\\garvi\\anaconda3\\envs\\tfod\\lib\\site-packages (from opencv-python) (1.19.5)\n"
     ]
    }
   ],
   "source": [
    "!pip install opencv-python"
   ]
  },
  {
   "cell_type": "code",
   "execution_count": 1,
   "metadata": {},
   "outputs": [],
   "source": [
    "# Import opencv\n",
    "import cv2 \n",
    "\n",
    "# Import uuid\n",
    "import uuid\n",
    "\n",
    "# Import Operating System\n",
    "import os\n",
    "\n",
    "# Import time\n",
    "import time"
   ]
  },
  {
   "cell_type": "markdown",
   "metadata": {},
   "source": [
    "# 2. Define Images to Collect"
   ]
  },
  {
   "cell_type": "code",
   "execution_count": 2,
   "metadata": {},
   "outputs": [],
   "source": [
    "#labels = ['thumbsup', 'thumbsdown', 'thankyou', 'livelong']\n",
    "#number_imgs = 5\n",
    "\n",
    "labels = ['thumbsup', 'thumbsdown']\n",
    "number_imgs = 6"
   ]
  },
  {
   "cell_type": "markdown",
   "metadata": {},
   "source": [
    "# 3. Setup Folders "
   ]
  },
  {
   "cell_type": "code",
   "execution_count": 3,
   "metadata": {},
   "outputs": [],
   "source": [
    "IMAGES_PATH = os.path.join('Tensorflow', 'workspace', 'images', 'collectedimages')"
   ]
  },
  {
   "cell_type": "code",
   "execution_count": 4,
   "metadata": {},
   "outputs": [
    {
     "data": {
      "text/plain": [
       "'Tensorflow\\\\workspace\\\\images\\\\collectedimages'"
      ]
     },
     "execution_count": 4,
     "metadata": {},
     "output_type": "execute_result"
    }
   ],
   "source": [
    "IMAGES_PATH"
   ]
  },
  {
   "cell_type": "code",
   "execution_count": 5,
   "metadata": {},
   "outputs": [],
   "source": [
    "### posix means linux and nt means windows\n",
    "if not os.path.exists(IMAGES_PATH):\n",
    "    if os.name == 'posix':\n",
    "        !mkdir -p {IMAGES_PATH}\n",
    "    if os.name == 'nt':\n",
    "         !mkdir {IMAGES_PATH}\n",
    "for label in labels:\n",
    "    path = os.path.join(IMAGES_PATH, label)\n",
    "    if not os.path.exists(path):\n",
    "        !mkdir {path}"
   ]
  },
  {
   "cell_type": "markdown",
   "metadata": {},
   "source": [
    "# 4. Capture Images"
   ]
  },
  {
   "cell_type": "code",
   "execution_count": 10,
   "metadata": {},
   "outputs": [
    {
     "name": "stdout",
     "output_type": "stream",
     "text": [
      "Collecting images for thumbsup\n",
      "Collecting image 0\n",
      "Collecting image 1\n",
      "Collecting image 2\n",
      "Collecting image 3\n",
      "Collecting image 4\n",
      "Collecting images for thumbsdown\n",
      "Collecting image 0\n",
      "Collecting image 1\n",
      "Collecting image 2\n",
      "Collecting image 3\n",
      "Collecting image 4\n",
      "Collecting images for thankyou\n",
      "Collecting image 0\n",
      "Collecting image 1\n",
      "Collecting image 2\n",
      "Collecting image 3\n",
      "Collecting image 4\n",
      "Collecting images for livelong\n",
      "Collecting image 0\n",
      "Collecting image 1\n",
      "Collecting image 2\n",
      "Collecting image 3\n",
      "Collecting image 4\n"
     ]
    }
   ],
   "source": [
    "for label in labels:\n",
    "    cap = cv2.VideoCapture(0) # connects to webcam \n",
    "    print('Collecting images for {}'.format(label))\n",
    "    time.sleep(5)\n",
    "    for imgnum in range(number_imgs):\n",
    "        print('Collecting image {}'.format(imgnum))\n",
    "        ret, frame = cap.read()\n",
    "        imgname = os.path.join(IMAGES_PATH,label,label+'.'+'{}.jpg'.format(str(uuid.uuid1())))\n",
    "        cv2.imwrite(imgname, frame)\n",
    "        cv2.imshow('frame', frame)\n",
    "        time.sleep(2)\n",
    "\n",
    "        if cv2.waitKey(1) & 0xFF == ord('q'):\n",
    "            break\n",
    "cap.release()\n",
    "cv2.destroyAllWindows()"
   ]
  },
  {
   "cell_type": "markdown",
   "metadata": {},
   "source": [
    "# 5. Image Labelling"
   ]
  },
  {
   "cell_type": "code",
   "execution_count": 11,
   "metadata": {},
   "outputs": [
    {
     "name": "stdout",
     "output_type": "stream",
     "text": [
      "Collecting pyqt5\n",
      "  Downloading PyQt5-5.15.4-cp36.cp37.cp38.cp39-none-win_amd64.whl (6.8 MB)\n",
      "Collecting lxml\n",
      "  Downloading lxml-4.6.3-cp38-cp38-win_amd64.whl (3.5 MB)\n",
      "Collecting PyQt5-sip<13,>=12.8\n",
      "  Downloading PyQt5_sip-12.9.0-cp38-cp38-win_amd64.whl (63 kB)\n",
      "Collecting PyQt5-Qt5>=5.15\n",
      "  Downloading PyQt5_Qt5-5.15.2-py3-none-win_amd64.whl (50.1 MB)\n",
      "Installing collected packages: PyQt5-sip, PyQt5-Qt5, pyqt5, lxml\n",
      "Successfully installed PyQt5-Qt5-5.15.2 PyQt5-sip-12.9.0 lxml-4.6.3 pyqt5-5.15.4\n"
     ]
    }
   ],
   "source": [
    "!pip install --upgrade pyqt5 lxml"
   ]
  },
  {
   "cell_type": "code",
   "execution_count": 12,
   "metadata": {},
   "outputs": [],
   "source": [
    "LABELIMG_PATH = os.path.join('Tensorflow', 'labelimg')"
   ]
  },
  {
   "cell_type": "code",
   "execution_count": 14,
   "metadata": {},
   "outputs": [
    {
     "name": "stderr",
     "output_type": "stream",
     "text": [
      "Cloning into 'Tensorflow\\labelimg'...\n"
     ]
    }
   ],
   "source": [
    "if not os.path.exists(LABELIMG_PATH):\n",
    "    !mkdir {LABELIMG_PATH}\n",
    "    !git clone https://github.com/tzutalin/labelImg {LABELIMG_PATH}"
   ]
  },
  {
   "cell_type": "code",
   "execution_count": 16,
   "metadata": {},
   "outputs": [],
   "source": [
    "if os.name == 'posix':\n",
    "    !cd {LABELIMG_PATH} && make qt5py3\n",
    "if os.name =='nt':\n",
    "    !cd {LABELIMG_PATH} && pyrcc5 -o libs/resources.py resources.qrc"
   ]
  },
  {
   "cell_type": "code",
   "execution_count": 17,
   "metadata": {},
   "outputs": [
    {
     "name": "stdout",
     "output_type": "stream",
     "text": [
      "Image:C:\\Users\\garvi\\CODE\\Projects\\Object Detection\\TFODCourse\\Tensorflow\\workspace\\images\\collectedimages\\livelong\\livelong.eed34cbd-e2e5-11eb-b7c1-04d9f5d24df3.jpg -> Annotation:C:/Users/garvi/CODE/Projects/Object Detection/TFODCourse/Tensorflow/workspace/images/collectedimages/livelong/livelong.eed34cbd-e2e5-11eb-b7c1-04d9f5d24df3.xml\n",
      "Cancel creation.\n",
      "Cancel creation.\n",
      "Image:C:\\Users\\garvi\\CODE\\Projects\\Object Detection\\TFODCourse\\Tensorflow\\workspace\\images\\collectedimages\\livelong\\livelong.f3ac86be-e2e5-11eb-adf8-04d9f5d24df3.jpg -> Annotation:C:/Users/garvi/CODE/Projects/Object Detection/TFODCourse/Tensorflow/workspace/images/collectedimages/livelong/livelong.f3ac86be-e2e5-11eb-adf8-04d9f5d24df3.xml\n",
      "Cancel creation.\n",
      "Cancel creation.\n",
      "Cancel creation.\n",
      "Image:C:\\Users\\garvi\\CODE\\Projects\\Object Detection\\TFODCourse\\Tensorflow\\workspace\\images\\collectedimages\\livelong\\livelong.f13f313d-e2e5-11eb-8db2-04d9f5d24df3.jpg -> Annotation:C:/Users/garvi/CODE/Projects/Object Detection/TFODCourse/Tensorflow/workspace/images/collectedimages/livelong/livelong.f13f313d-e2e5-11eb-8db2-04d9f5d24df3.xml\n",
      "Cancel creation.\n",
      "Cancel creation.\n",
      "Image:C:\\Users\\garvi\\CODE\\Projects\\Object Detection\\TFODCourse\\Tensorflow\\workspace\\images\\collectedimages\\livelong\\livelong.f0095f48-e2e5-11eb-b8a3-04d9f5d24df3.jpg -> Annotation:C:/Users/garvi/CODE/Projects/Object Detection/TFODCourse/Tensorflow/workspace/images/collectedimages/livelong/livelong.f0095f48-e2e5-11eb-b8a3-04d9f5d24df3.xml\n",
      "Image:C:\\Users\\garvi\\CODE\\Projects\\Object Detection\\TFODCourse\\Tensorflow\\workspace\\images\\collectedimages\\livelong\\livelong.f276296a-e2e5-11eb-ba68-04d9f5d24df3.jpg -> Annotation:C:/Users/garvi/CODE/Projects/Object Detection/TFODCourse/Tensorflow/workspace/images/collectedimages/livelong/livelong.f276296a-e2e5-11eb-ba68-04d9f5d24df3.xml\n",
      "Cancel creation.\n",
      "Cancel creation.\n",
      "Cancel creation.\n",
      "Cancel creation.\n",
      "Image:C:\\Users\\garvi\\CODE\\Projects\\Object Detection\\TFODCourse\\Tensorflow\\workspace\\images\\collectedimages\\thankyou\\thankyou.e0b9535a-e2e5-11eb-be00-04d9f5d24df3.jpg -> Annotation:C:/Users/garvi/CODE/Projects/Object Detection/TFODCourse/Tensorflow/workspace/images/collectedimages/thankyou/thankyou.e0b9535a-e2e5-11eb-be00-04d9f5d24df3.xml\n",
      "Image:C:\\Users\\garvi\\CODE\\Projects\\Object Detection\\TFODCourse\\Tensorflow\\workspace\\images\\collectedimages\\thankyou\\thankyou.e1f06d6b-e2e5-11eb-86a1-04d9f5d24df3.jpg -> Annotation:C:/Users/garvi/CODE/Projects/Object Detection/TFODCourse/Tensorflow/workspace/images/collectedimages/thankyou/thankyou.e1f06d6b-e2e5-11eb-86a1-04d9f5d24df3.xml\n",
      "Cancel creation.\n",
      "Image:C:\\Users\\garvi\\CODE\\Projects\\Object Detection\\TFODCourse\\Tensorflow\\workspace\\images\\collectedimages\\thankyou\\thankyou.e45c5281-e2e5-11eb-b9c7-04d9f5d24df3.jpg -> Annotation:C:/Users/garvi/CODE/Projects/Object Detection/TFODCourse/Tensorflow/workspace/images/collectedimages/thankyou/thankyou.e45c5281-e2e5-11eb-b9c7-04d9f5d24df3.xml\n",
      "Image:C:\\Users\\garvi\\CODE\\Projects\\Object Detection\\TFODCourse\\Tensorflow\\workspace\\images\\collectedimages\\thankyou\\thankyou.e5927eb6-e2e5-11eb-85d5-04d9f5d24df3.jpg -> Annotation:C:/Users/garvi/CODE/Projects/Object Detection/TFODCourse/Tensorflow/workspace/images/collectedimages/thankyou/thankyou.e5927eb6-e2e5-11eb-85d5-04d9f5d24df3.xml\n",
      "Cancel creation.\n",
      "Cancel creation.\n",
      "Cancel creation.\n",
      "Image:C:\\Users\\garvi\\CODE\\Projects\\Object Detection\\TFODCourse\\Tensorflow\\workspace\\images\\collectedimages\\thankyou\\thankyou.e3240092-e2e5-11eb-8fcb-04d9f5d24df3.jpg -> Annotation:C:/Users/garvi/CODE/Projects/Object Detection/TFODCourse/Tensorflow/workspace/images/collectedimages/thankyou/thankyou.e3240092-e2e5-11eb-8fcb-04d9f5d24df3.xml\n",
      "Image:C:\\Users\\garvi\\CODE\\Projects\\Object Detection\\TFODCourse\\Tensorflow\\workspace\\images\\collectedimages\\thumbsdown\\thumbsdown.d3ca4ef7-e2e5-11eb-a2c1-04d9f5d24df3.jpg -> Annotation:C:/Users/garvi/CODE/Projects/Object Detection/TFODCourse/Tensorflow/workspace/images/collectedimages/thumbsdown/thumbsdown.d3ca4ef7-e2e5-11eb-a2c1-04d9f5d24df3.xml\n",
      "Cancel creation.\n",
      "Cancel creation.\n",
      "Image:C:\\Users\\garvi\\CODE\\Projects\\Object Detection\\TFODCourse\\Tensorflow\\workspace\\images\\collectedimages\\thumbsdown\\thumbsdown.d3ca4ef7-e2e5-11eb-a2c1-04d9f5d24df3.jpg -> Annotation:C:/Users/garvi/CODE/Projects/Object Detection/TFODCourse/Tensorflow/workspace/images/collectedimages/thumbsdown/thumbsdown.d3ca4ef7-e2e5-11eb-a2c1-04d9f5d24df3.xml\n",
      "Cancel creation.\n",
      "Cancel creation.\n",
      "Cancel creation.\n",
      "Image:C:\\Users\\garvi\\CODE\\Projects\\Object Detection\\TFODCourse\\Tensorflow\\workspace\\images\\collectedimages\\thumbsdown\\thumbsdown.d76d75ff-e2e5-11eb-94f7-04d9f5d24df3.jpg -> Annotation:C:/Users/garvi/CODE/Projects/Object Detection/TFODCourse/Tensorflow/workspace/images/collectedimages/thumbsdown/thumbsdown.d76d75ff-e2e5-11eb-94f7-04d9f5d24df3.xml\n",
      "Image:C:\\Users\\garvi\\CODE\\Projects\\Object Detection\\TFODCourse\\Tensorflow\\workspace\\images\\collectedimages\\thumbsdown\\thumbsdown.d292fdb6-e2e5-11eb-a388-04d9f5d24df3.jpg -> Annotation:C:/Users/garvi/CODE/Projects/Object Detection/TFODCourse/Tensorflow/workspace/images/collectedimages/thumbsdown/thumbsdown.d292fdb6-e2e5-11eb-a388-04d9f5d24df3.xml\n",
      "Image:C:\\Users\\garvi\\CODE\\Projects\\Object Detection\\TFODCourse\\Tensorflow\\workspace\\images\\collectedimages\\thumbsdown\\thumbsdown.d5023f36-e2e5-11eb-9dbd-04d9f5d24df3.jpg -> Annotation:C:/Users/garvi/CODE/Projects/Object Detection/TFODCourse/Tensorflow/workspace/images/collectedimages/thumbsdown/thumbsdown.d5023f36-e2e5-11eb-9dbd-04d9f5d24df3.xml\n",
      "Image:C:\\Users\\garvi\\CODE\\Projects\\Object Detection\\TFODCourse\\Tensorflow\\workspace\\images\\collectedimages\\thumbsdown\\thumbsdown.d63801ec-e2e5-11eb-a311-04d9f5d24df3.jpg -> Annotation:C:/Users/garvi/CODE/Projects/Object Detection/TFODCourse/Tensorflow/workspace/images/collectedimages/thumbsdown/thumbsdown.d63801ec-e2e5-11eb-a311-04d9f5d24df3.xml\n",
      "Image:C:\\Users\\garvi\\CODE\\Projects\\Object Detection\\TFODCourse\\Tensorflow\\workspace\\images\\collectedimages\\thumbsup\\thumbsup.c5bfd86c-e2e5-11eb-8ef2-04d9f5d24df3.jpg -> Annotation:C:/Users/garvi/CODE/Projects/Object Detection/TFODCourse/Tensorflow/workspace/images/collectedimages/thumbsup/thumbsup.c5bfd86c-e2e5-11eb-8ef2-04d9f5d24df3.xml\n",
      "Cancel creation.\n",
      "Cancel creation.\n",
      "Image:C:\\Users\\garvi\\CODE\\Projects\\Object Detection\\TFODCourse\\Tensorflow\\workspace\\images\\collectedimages\\thumbsup\\thumbsup.c6f3adf0-e2e5-11eb-8225-04d9f5d24df3.jpg -> Annotation:C:/Users/garvi/CODE/Projects/Object Detection/TFODCourse/Tensorflow/workspace/images/collectedimages/thumbsup/thumbsup.c6f3adf0-e2e5-11eb-8225-04d9f5d24df3.xml\n",
      "Image:C:\\Users\\garvi\\CODE\\Projects\\Object Detection\\TFODCourse\\Tensorflow\\workspace\\images\\collectedimages\\thumbsup\\thumbsup.c829f9cb-e2e5-11eb-bb02-04d9f5d24df3.jpg -> Annotation:C:/Users/garvi/CODE/Projects/Object Detection/TFODCourse/Tensorflow/workspace/images/collectedimages/thumbsup/thumbsup.c829f9cb-e2e5-11eb-bb02-04d9f5d24df3.xml\n",
      "Image:C:\\Users\\garvi\\CODE\\Projects\\Object Detection\\TFODCourse\\Tensorflow\\workspace\\images\\collectedimages\\thumbsup\\thumbsup.c4897d5a-e2e5-11eb-904e-04d9f5d24df3.jpg -> Annotation:C:/Users/garvi/CODE/Projects/Object Detection/TFODCourse/Tensorflow/workspace/images/collectedimages/thumbsup/thumbsup.c4897d5a-e2e5-11eb-904e-04d9f5d24df3.xml\n",
      "Image:C:\\Users\\garvi\\CODE\\Projects\\Object Detection\\TFODCourse\\Tensorflow\\workspace\\images\\collectedimages\\thumbsup\\thumbsup.c9611a07-e2e5-11eb-9f5d-04d9f5d24df3.jpg -> Annotation:C:/Users/garvi/CODE/Projects/Object Detection/TFODCourse/Tensorflow/workspace/images/collectedimages/thumbsup/thumbsup.c9611a07-e2e5-11eb-9f5d-04d9f5d24df3.xml\n"
     ]
    },
    {
     "name": "stderr",
     "output_type": "stream",
     "text": [
      "labelImg.py:965: DeprecationWarning: an integer is required (got type float).  Implicit conversion to integers using __int__ is deprecated, and may be removed in a future version of Python.\n",
      "  bar.setValue(bar.value() + bar.singleStep() * units)\n"
     ]
    }
   ],
   "source": [
    "!cd {LABELIMG_PATH} && python labelImg.py"
   ]
  },
  {
   "cell_type": "markdown",
   "metadata": {},
   "source": [
    "# 6. Move them into a Training and Testing Partition"
   ]
  },
  {
   "cell_type": "markdown",
   "metadata": {},
   "source": [
    "# OPTIONAL - 7. Compress them for Colab Training"
   ]
  },
  {
   "cell_type": "code",
   "execution_count": 20,
   "metadata": {},
   "outputs": [],
   "source": [
    "TRAIN_PATH = os.path.join('Tensorflow', 'workspace', 'images', 'train')\n",
    "TEST_PATH = os.path.join('Tensorflow', 'workspace', 'images', 'test')\n",
    "ARCHIVE_PATH = os.path.join('Tensorflow', 'workspace', 'images', 'archive.tar.gz')"
   ]
  },
  {
   "cell_type": "code",
   "execution_count": 21,
   "metadata": {},
   "outputs": [],
   "source": [
    "!tar -czf {ARCHIVE_PATH} {TRAIN_PATH} {TEST_PATH}"
   ]
  },
  {
   "cell_type": "markdown",
   "metadata": {},
   "source": [
    "Under colleceted images folder --> labels will be formed \n",
    "after step 5 \n",
    "make new folders train and test in collected image location \n",
    "copy 4 photo from the label and paste them in train folder\n",
    "paste the remaining photos to the test area \n",
    "-> delete the collected image folder after that"
   ]
  },
  {
   "cell_type": "code",
   "execution_count": null,
   "metadata": {},
   "outputs": [],
   "source": []
  }
 ],
 "metadata": {
  "kernelspec": {
   "display_name": "tfod",
   "language": "python",
   "name": "tfod"
  },
  "language_info": {
   "codemirror_mode": {
    "name": "ipython",
    "version": 3
   },
   "file_extension": ".py",
   "mimetype": "text/x-python",
   "name": "python",
   "nbconvert_exporter": "python",
   "pygments_lexer": "ipython3",
   "version": "3.8.10"
  }
 },
 "nbformat": 4,
 "nbformat_minor": 2
}
